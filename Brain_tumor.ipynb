{
  "cells": [
    {
      "cell_type": "markdown",
      "metadata": {
        "id": "8USpHxVwq3KL"
      },
      "source": [
        "# **Importing Libraries**\n",
        "\n",
        "\n"
      ]
    },
    {
      "cell_type": "code",
      "execution_count": 14,
      "metadata": {
        "colab": {
          "base_uri": "https://localhost:8080/"
        },
        "id": "fw562Te86ERk",
        "outputId": "05ee29f8-2537-4b68-e1a2-9d446ebff376"
      },
      "outputs": [
        {
          "name": "stderr",
          "output_type": "stream",
          "text": [
            "/usr/local/lib/python3.7/dist-packages/ipykernel_launcher.py:6: TqdmDeprecationWarning: This function will be removed in tqdm==5.0.0\n",
            "Please use `tqdm.notebook.*` instead of `tqdm._tqdm_notebook.*`\n",
            "  \n"
          ]
        }
      ],
      "source": [
        "import tensorflow as tf\n",
        "import os,glob\n",
        "import cv2\n",
        "import matplotlib.pyplot as plt\n",
        "import numpy as np\n",
        "from tqdm._tqdm_notebook import tqdm_notebook as tqdm\n",
        "from sklearn import preprocessing\n",
        "from sklearn.model_selection import train_test_split\n",
        "from keras.models import Sequential\n",
        "from keras.layers import Convolution2D, Dropout, Dense,MaxPooling2D\n",
        "from keras.layers import BatchNormalization\n",
        "from keras.layers import MaxPooling2D\n",
        "from keras.layers import Flatten"
      ]
    },
    {
      "cell_type": "markdown",
      "metadata": {
        "id": "S5jjnnkErKLN"
      },
      "source": [
        "# **Load Dataset**"
      ]
    },
    {
      "cell_type": "code",
      "execution_count": 2,
      "metadata": {
        "colab": {
          "base_uri": "https://localhost:8080/"
        },
        "id": "iXjGSE2i7XA4",
        "outputId": "973617a2-41d1-492e-8b7e-4ec0acb04b1c"
      },
      "outputs": [
        {
          "name": "stdout",
          "output_type": "stream",
          "text": [
            "Mounted at /content/gdrive\n"
          ]
        }
      ],
      "source": [
        "from google.colab import drive\n",
        "drive.mount('/content/gdrive')"
      ]
    },
    {
      "cell_type": "code",
      "execution_count": 3,
      "metadata": {
        "id": "uIcXQlYM7geS"
      },
      "outputs": [],
      "source": [
        "import os\n",
        "os.environ['KAGGLE_CONFIG_DIR'] = \"/content/gdrive/MyDrive/Brain_tumor\""
      ]
    },
    {
      "cell_type": "code",
      "execution_count": 4,
      "metadata": {
        "colab": {
          "base_uri": "https://localhost:8080/"
        },
        "id": "unPttfnL7rWk",
        "outputId": "6427843d-d130-45d6-c67d-627272edc977"
      },
      "outputs": [
        {
          "name": "stdout",
          "output_type": "stream",
          "text": [
            "/content/gdrive/MyDrive/Brain_tumor\n"
          ]
        }
      ],
      "source": [
        "%cd /content/gdrive/MyDrive/Brain_tumor"
      ]
    },
    {
      "cell_type": "markdown",
      "metadata": {
        "id": "rsekRCYe5CbM"
      },
      "source": [
        "# **Visualization of the images**"
      ]
    },
    {
      "cell_type": "code",
      "execution_count": 33,
      "metadata": {
        "colab": {
          "base_uri": "https://localhost:8080/",
          "height": 81,
          "referenced_widgets": [
            "819b483ac5f54b26ad7b396d82f9a152",
            "48e0f8db42ae45ee8d7a4c6d40734117",
            "5c56dea788f14157b8177e9d282940be",
            "3c088d13d7a6410ea4f2c75133e3b980",
            "0a41e97e67c24ff5a554a4adfda7fa97",
            "5911cfc25fc44ef9a9a145f5b43cd57d",
            "bca25db3521d45a78446a059839dea8f",
            "9e278b15552e4141914cb63706a13c57",
            "5245246573a342d881e6ea841dfb79f4",
            "75105c89b9c84b25866d3c558f4c5459",
            "f46dd6da2e2a4de78d922512445e43cc",
            "975a9bc67a704069b7409d960a7751f3",
            "eac85250b39b4631828fbc356521e2f3",
            "da1f2e27cefa424b92cd743cddc29c44",
            "27098e64a49d4ff1a86b0805c1f6674e",
            "90d4f06bde0140a58919ab93a94c6cc3",
            "9d5bb51bee264e969c51749b62122591",
            "3b2391b909454956996c16d2b14fc4bf",
            "2d1fd6e77c894953b21e6aa0bd157047",
            "dd0ffd090f3047eca82cbab0d96539da",
            "5d7691b30c914dcba2fd67dabd2e369f",
            "228a8ccc9ae64a72b98868792423ce85"
          ]
        },
        "id": "aNhvdTgzt0eq",
        "outputId": "d379c2dd-0d2c-4dfc-d335-1a08ac40c9a9"
      },
      "outputs": [
        {
          "data": {
            "application/vnd.jupyter.widget-view+json": {
              "model_id": "819b483ac5f54b26ad7b396d82f9a152",
              "version_major": 2,
              "version_minor": 0
            },
            "text/plain": [
              "  0%|          | 0/300 [00:00<?, ?it/s]"
            ]
          },
          "metadata": {},
          "output_type": "display_data"
        },
        {
          "data": {
            "application/vnd.jupyter.widget-view+json": {
              "model_id": "975a9bc67a704069b7409d960a7751f3",
              "version_major": 2,
              "version_minor": 0
            },
            "text/plain": [
              "  0%|          | 0/300 [00:00<?, ?it/s]"
            ]
          },
          "metadata": {},
          "output_type": "display_data"
        }
      ],
      "source": [
        "os.chdir('/content/gdrive/MyDrive/Brain_tumor/Test/no')\n",
        "N = []\n",
        "Y = []\n",
        "for i in tqdm(os.listdir()):\n",
        "      img = cv2.imread(i)   \n",
        "      img = cv2.resize(img,(224,224))\n",
        "      N.append(img)\n",
        "      \n",
        "os.chdir('/content/gdrive/MyDrive/Brain_tumor/Test/yes')\n",
        "for i in tqdm(os.listdir()):\n",
        "      img = cv2.imread(i)   \n",
        "      img = cv2.resize(img,(224,224))\n",
        "      Y.append(img)\n"
      ]
    },
    {
      "cell_type": "code",
      "execution_count": 43,
      "metadata": {
        "colab": {
          "base_uri": "https://localhost:8080/",
          "height": 278
        },
        "id": "9BnnFSVXxvvK",
        "outputId": "5649ee48-5016-4dc0-8507-b76b766a832c"
      },
      "outputs": [
        {
          "name": "stdout",
          "output_type": "stream",
          "text": [
            "Non-Tumor:-\n",
            "-----------------\n"
          ]
        },
        {
          "data": {
            "text/plain": [
              "<Figure size 720x720 with 0 Axes>"
            ]
          },
          "metadata": {},
          "output_type": "display_data"
        },
        {
          "data": {
            "image/png": "[encoded data removed]",
            "text/plain": [
              "<Figure size 432x288 with 4 Axes>"
            ]
          },
          "metadata": {
            "needs_background": "light"
          },
          "output_type": "display_data"
        },
        {
          "name": "stdout",
          "output_type": "stream",
          "text": [
            "Tumor:-\n",
            "-----------------\n"
          ]
        },
        {
          "data": {
            "image/png": "[encoded data removed]",
            "text/plain": [
              "<Figure size 432x288 with 4 Axes>"
            ]
          },
          "metadata": {
            "needs_background": "light"
          },
          "output_type": "display_data"
        }
      ],
      "source": [
        "plt.figure(figsize=(10, 10))\n",
        "plt.subplots(2, 4)\n",
        "for i in range(4):\n",
        "    plt.subplot(1, 4, i+1)\n",
        "    plt.imshow(N[i], cmap=\"gray\")\n",
        "    plt.axis('off')\n",
        "print(\"Non-Tumor:-\")\n",
        "print(\"-----------------\")\n",
        "plt.show()\n",
        "for i in range(4):\n",
        "    plt.subplot(2, 4, i+1)\n",
        "    plt.imshow(Y[i], cmap=\"gray\")\n",
        "    plt.axis('off')\n",
        "print(\"Tumor:-\")\n",
        "print(\"-----------------\")\n",
        "plt.show()"
      ]
    },
    {
      "cell_type": "markdown",
      "metadata": {
        "id": "JvvzjGGY8DIY"
      },
      "source": [
        "# ***VGG16 model for image classification***\n",
        "![vgg_layers.png](data:image/png;base64,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)\n"
      ]
    },
    {
      "cell_type": "code",
      "execution_count": null,
      "metadata": {
        "id": "c2iLV7bt8PKz"
      },
      "outputs": [],
      "source": [
        "# Important parameters\n",
        "batch_size = 60\n",
        "width_shape = 224\n",
        "height_shape = 224\n",
        "class_names = ['no','yes']"
      ]
    },
    {
      "cell_type": "code",
      "execution_count": null,
      "metadata": {
        "colab": {
          "base_uri": "https://localhost:8080/"
        },
        "id": "_Zbx1ai88q7Y",
        "outputId": "0a350fe3-978b-4f81-f8b6-fe56f7f94bcd"
      },
      "outputs": [
        {
          "name": "stdout",
          "output_type": "stream",
          "text": [
            "Downloading data from https://storage.googleapis.com/tensorflow/keras-applications/vgg16/vgg16_weights_tf_dim_ordering_tf_kernels.h5\n",
            "553467904/553467096 [==============================] - 12s 0us/step\n",
            "553476096/553467096 [==============================] - 12s 0us/step\n",
            "Model: \"model\"\n",
            "_________________________________________________________________\n",
            " Layer (type)                Output Shape              Param #   \n",
            "=================================================================\n",
            " input_1 (InputLayer)        [(None, 224, 224, 3)]     0         \n",
            "                                                                 \n",
            " block1_conv1 (Conv2D)       (None, 224, 224, 64)      1792      \n",
            "                                                                 \n",
            " block1_conv2 (Conv2D)       (None, 224, 224, 64)      36928     \n",
            "                                                                 \n",
            " block1_pool (MaxPooling2D)  (None, 112, 112, 64)      0         \n",
            "                                                                 \n",
            " block2_conv1 (Conv2D)       (None, 112, 112, 128)     73856     \n",
            "                                                                 \n",
            " block2_conv2 (Conv2D)       (None, 112, 112, 128)     147584    \n",
            "                                                                 \n",
            " block2_pool (MaxPooling2D)  (None, 56, 56, 128)       0         \n",
            "                                                                 \n",
            " block3_conv1 (Conv2D)       (None, 56, 56, 256)       295168    \n",
            "                                                                 \n",
            " block3_conv2 (Conv2D)       (None, 56, 56, 256)       590080    \n",
            "                                                                 \n",
            " block3_conv3 (Conv2D)       (None, 56, 56, 256)       590080    \n",
            "                                                                 \n",
            " block3_pool (MaxPooling2D)  (None, 28, 28, 256)       0         \n",
            "                                                                 \n",
            " block4_conv1 (Conv2D)       (None, 28, 28, 512)       1180160   \n",
            "                                                                 \n",
            " block4_conv2 (Conv2D)       (None, 28, 28, 512)       2359808   \n",
            "                                                                 \n",
            " block4_conv3 (Conv2D)       (None, 28, 28, 512)       2359808   \n",
            "                                                                 \n",
            " block4_pool (MaxPooling2D)  (None, 14, 14, 512)       0         \n",
            "                                                                 \n",
            " block5_conv1 (Conv2D)       (None, 14, 14, 512)       2359808   \n",
            "                                                                 \n",
            " block5_conv2 (Conv2D)       (None, 14, 14, 512)       2359808   \n",
            "                                                                 \n",
            " block5_conv3 (Conv2D)       (None, 14, 14, 512)       2359808   \n",
            "                                                                 \n",
            " block5_pool (MaxPooling2D)  (None, 7, 7, 512)         0         \n",
            "                                                                 \n",
            " flatten (Flatten)           (None, 25088)             0         \n",
            "                                                                 \n",
            " fc1 (Dense)                 (None, 128)               3211392   \n",
            "                                                                 \n",
            " fc2 (Dense)                 (None, 128)               16512     \n",
            "                                                                 \n",
            " output (Dense)              (None, 2)                 258       \n",
            "                                                                 \n",
            "=================================================================\n",
            "Total params: 17,942,850\n",
            "Trainable params: 17,942,850\n",
            "Non-trainable params: 0\n",
            "_________________________________________________________________\n"
          ]
        }
      ],
      "source": [
        "# An alternative to copy the VGG16 model\n",
        "from tensorflow.keras.applications.vgg16 import VGG16\n",
        "from tensorflow.keras.layers import Input\n",
        "from tensorflow.keras.models import Sequential, Model\n",
        "\n",
        "image_input = Input(shape=(224,224,3))\n",
        "model2 = VGG16(input_tensor=image_input, include_top=True,weights='imagenet')\n",
        "\n",
        "# Take the last layer (block5_pool), and from there build the desnse layers\n",
        "last_layer = model2.get_layer('block5_pool').output\n",
        "x= Flatten(name='flatten')(last_layer)\n",
        "x = Dense(128, activation='relu', name='fc1')(x)\n",
        "x = Dense(128, activation='relu', name='fc2')(x)\n",
        "#x = Dense(4096, activation='relu', name='fc1')(x)\n",
        "#x = Dense(4096, activation='relu', name='fc2')(x)\n",
        "\n",
        "out = Dense(2, activation='softmax', name='output')(x)\n",
        "\n",
        "model2 = Model(image_input, out)\n",
        "\n",
        "model2.summary()"
      ]
    },
    {
      "cell_type": "markdown",
      "metadata": {
        "id": "86xTBivW8zpM"
      },
      "source": [
        "# **Daset Preparation**"
      ]
    },
    {
      "cell_type": "code",
      "execution_count": null,
      "metadata": {
        "colab": {
          "base_uri": "https://localhost:8080/"
        },
        "id": "mOu39Qjb81Fw",
        "outputId": "ec0ba301-3a06-40b6-e1b4-2583face88bf"
      },
      "outputs": [
        {
          "name": "stdout",
          "output_type": "stream",
          "text": [
            "Found 202 images belonging to 2 classes.\n",
            "Found 51 images belonging to 2 classes.\n"
          ]
        }
      ],
      "source": [
        "from tensorflow.keras.preprocessing.image import ImageDataGenerator \n",
        "from tensorflow.keras.applications.imagenet_utils import preprocess_input\n",
        "# Definimos las direcciones del dataset\n",
        "train_data_dir = \"/content/gdrive/MyDrive/Brain_tumor/Train\"\n",
        "\n",
        "test_data_dir = \"/content/gdrive/MyDrive/Brain_tumor/Test\"\n",
        "\n",
        "# Definimos un ImageDataGenerator para cada conjunto de imagenes\n",
        "train_datagen = ImageDataGenerator(preprocessing_function=preprocess_input)\n",
        "\n",
        "test_datagen = ImageDataGenerator(preprocessing_function=preprocess_input)\n",
        "\n",
        "train_generator = train_datagen.flow_from_directory(  \n",
        "    train_data_dir,\n",
        "    target_size=(width_shape, height_shape),\n",
        "    batch_size=batch_size,\n",
        "    shuffle=False)\n",
        "\n",
        "\n",
        "\n",
        "test_generator = test_datagen.flow_from_directory(\n",
        "    test_data_dir,\n",
        "    target_size=(width_shape, height_shape), \n",
        "    batch_size = batch_size, \n",
        "    shuffle=False)"
      ]
    },
    {
      "cell_type": "markdown",
      "metadata": {
        "id": "gK9BQKjQ-VX6"
      },
      "source": [
        "# **Model build parameters (loss, optimizer and metrics)**"
      ]
    },
    {
      "cell_type": "code",
      "execution_count": null,
      "metadata": {
        "id": "6ztG7Lmp-Wc-"
      },
      "outputs": [],
      "source": [
        "model2.compile(loss='binary_crossentropy',optimizer='adam',metrics=['accuracy'])"
      ]
    },
    {
      "cell_type": "markdown",
      "metadata": {
        "id": "CZo8IeyU-eGa"
      },
      "source": [
        "# **Model Training**"
      ]
    },
    {
      "cell_type": "code",
      "execution_count": null,
      "metadata": {
        "id": "bzu7A6yu-f3y"
      },
      "outputs": [],
      "source": [
        "\n",
        "from tensorflow.keras.callbacks import TensorBoard\n",
        "import datetime\n",
        "\n",
        "%load_ext tensorboard\n",
        "\n",
        "logdir = os.path.join(\"logs\", datetime.datetime.now().strftime(\"%Y%m%d-%H%M%S\"))\n",
        "tensorboard_callback = TensorBoard(log_dir=logdir, histogram_freq=1)"
      ]
    },
    {
      "cell_type": "code",
      "execution_count": null,
      "metadata": {
        "colab": {
          "base_uri": "https://localhost:8080/"
        },
        "id": "SUPlw4COAY9i",
        "outputId": "e2f7427a-ef92-4bcc-a718-7cc37f536c4a"
      },
      "outputs": [
        {
          "data": {
            "text/plain": [
              "(20, 5)"
            ]
          },
          "execution_count": 10,
          "metadata": {},
          "output_type": "execute_result"
        }
      ],
      "source": [
        "n_steps = train_generator.samples // batch_size\n",
        "n_val_steps = test_generator.samples // batch_size\n",
        "n_epochs = 20\n",
        "n_steps,n_val_steps"
      ]
    },
    {
      "cell_type": "code",
      "execution_count": null,
      "metadata": {
        "colab": {
          "base_uri": "https://localhost:8080/"
        },
        "id": "9PNBTj9f-6pc",
        "outputId": "a40c4b13-a38a-4ee2-f608-bd0d6ea35877"
      },
      "outputs": [
        {
          "name": "stdout",
          "output_type": "stream",
          "text": [
            "Epoch 1/20\n",
            "20/20 [==============================] - 57s 2s/step - loss: 34.6910 - accuracy: 0.3490 - val_loss: 0.6807 - val_accuracy: 0.6000\n",
            "Epoch 2/20\n",
            "20/20 [==============================] - 3s 167ms/step - loss: 0.8511 - accuracy: 0.5938 - val_loss: 0.6807 - val_accuracy: 0.6000\n",
            "Epoch 3/20\n",
            "20/20 [==============================] - 3s 167ms/step - loss: 0.6895 - accuracy: 0.5885 - val_loss: 0.6804 - val_accuracy: 0.6000\n",
            "Epoch 4/20\n",
            "20/20 [==============================] - 3s 167ms/step - loss: 0.6682 - accuracy: 0.6458 - val_loss: 0.6680 - val_accuracy: 0.6000\n",
            "Epoch 5/20\n",
            "20/20 [==============================] - 3s 166ms/step - loss: 0.7270 - accuracy: 0.5938 - val_loss: 0.6811 - val_accuracy: 0.6400\n",
            "Epoch 6/20\n",
            "20/20 [==============================] - 3s 167ms/step - loss: 0.7022 - accuracy: 0.5938 - val_loss: 0.6760 - val_accuracy: 0.6600\n",
            "Epoch 7/20\n",
            "20/20 [==============================] - 3s 168ms/step - loss: 0.6793 - accuracy: 0.6458 - val_loss: 0.6541 - val_accuracy: 0.6000\n",
            "Epoch 8/20\n",
            "20/20 [==============================] - 3s 169ms/step - loss: 0.7241 - accuracy: 0.4792 - val_loss: 0.6683 - val_accuracy: 0.6000\n",
            "Epoch 9/20\n",
            "20/20 [==============================] - 3s 173ms/step - loss: 1.5458 - accuracy: 0.4950 - val_loss: 0.6772 - val_accuracy: 0.6000\n",
            "Epoch 10/20\n",
            "20/20 [==============================] - 3s 168ms/step - loss: 1.0901 - accuracy: 0.4375 - val_loss: 0.7233 - val_accuracy: 0.6000\n",
            "Epoch 11/20\n",
            "20/20 [==============================] - 3s 168ms/step - loss: 0.7750 - accuracy: 0.6823 - val_loss: 1.1270 - val_accuracy: 0.4000\n",
            "Epoch 12/20\n",
            "20/20 [==============================] - 3s 168ms/step - loss: 2.4870 - accuracy: 0.5833 - val_loss: 0.6848 - val_accuracy: 0.6000\n",
            "Epoch 13/20\n",
            "20/20 [==============================] - 3s 167ms/step - loss: 1.1099 - accuracy: 0.6250 - val_loss: 0.6854 - val_accuracy: 0.5600\n",
            "Epoch 14/20\n",
            "20/20 [==============================] - 4s 174ms/step - loss: 0.9629 - accuracy: 0.5400 - val_loss: 0.6950 - val_accuracy: 0.5400\n",
            "Epoch 15/20\n",
            "20/20 [==============================] - 3s 175ms/step - loss: 0.7703 - accuracy: 0.5885 - val_loss: 0.6865 - val_accuracy: 0.6000\n",
            "Epoch 16/20\n",
            "20/20 [==============================] - 3s 169ms/step - loss: 0.6848 - accuracy: 0.6458 - val_loss: 0.6834 - val_accuracy: 0.6000\n",
            "Epoch 17/20\n",
            "20/20 [==============================] - 3s 168ms/step - loss: 0.6939 - accuracy: 0.5938 - val_loss: 0.6840 - val_accuracy: 0.6000\n",
            "Epoch 18/20\n",
            "20/20 [==============================] - 3s 166ms/step - loss: 0.6844 - accuracy: 0.5938 - val_loss: 0.6825 - val_accuracy: 0.6000\n",
            "Epoch 19/20\n",
            "20/20 [==============================] - 3s 167ms/step - loss: 0.6761 - accuracy: 0.6458 - val_loss: 0.6809 - val_accuracy: 0.6000\n",
            "Epoch 20/20\n",
            "20/20 [==============================] - 3s 167ms/step - loss: 0.6817 - accuracy: 0.5938 - val_loss: 0.6800 - val_accuracy: 0.6000\n"
          ]
        }
      ],
      "source": [
        "model_history = model2.fit(  \n",
        "    train_generator,\n",
        "    batch_size=batch_size,\n",
        "    epochs=n_epochs,\n",
        "    validation_data=test_generator,\n",
        "    steps_per_epoch=n_steps,\n",
        "    validation_steps=n_val_steps)"
      ]
    },
    {
      "cell_type": "markdown",
      "metadata": {
        "id": "FoJx3LF2Nw2u"
      },
      "source": [
        "# **CNN Model for image classification (Transfer Learning and Data Augmentation)**"
      ]
    },
    {
      "cell_type": "code",
      "execution_count": null,
      "metadata": {
        "colab": {
          "base_uri": "https://localhost:8080/"
        },
        "id": "yl1zy-PJNyGx",
        "outputId": "b90c5585-34b3-4b4d-89f7-a9fc82595d3e"
      },
      "outputs": [
        {
          "name": "stdout",
          "output_type": "stream",
          "text": [
            "Found 2400 images belonging to 2 classes.\n",
            "Found 600 images belonging to 2 classes.\n"
          ]
        }
      ],
      "source": [
        "from tensorflow.keras.preprocessing.image import ImageDataGenerator \n",
        "from tensorflow.keras.applications.imagenet_utils import preprocess_input\n",
        "\n",
        "# Definimos las direcciones del dataset\n",
        "train_data_dir = \"/content/gdrive/MyDrive/Brain_tumor/Train\"\n",
        "\n",
        "test_data_dir = \"/content/gdrive/MyDrive/Brain_tumor/Test\"\n",
        "\n",
        "# Definimos la configuración de data-augmentation para los datos de entrenamiento\n",
        "train_datagen = ImageDataGenerator(  \n",
        "    rotation_range=15,\n",
        "    zoom_range=0.1,\n",
        "    width_shift_range=0.1,\n",
        "    height_shift_range=0.1,\n",
        "    horizontal_flip=True,\n",
        "    vertical_flip=False,\n",
        "    preprocessing_function=preprocess_input)\n",
        "\n",
        "\n",
        "test_datagen = ImageDataGenerator(preprocessing_function=preprocess_input)\n",
        "\n",
        "train_generator = train_datagen.flow_from_directory(  \n",
        "    train_data_dir,\n",
        "    target_size=(width_shape, height_shape),\n",
        "    batch_size=batch_size,\n",
        "    #save_to_dir='/content/WorkShopIC',\n",
        "    shuffle=False)\n",
        "\n",
        "test_generator = test_datagen.flow_from_directory(\n",
        "    test_data_dir,\n",
        "    target_size=(width_shape, height_shape), \n",
        "    batch_size = batch_size, \n",
        "    shuffle=False)\n",
        "\n"
      ]
    },
    {
      "cell_type": "markdown",
      "metadata": {
        "id": "Ou9NmSjDOZSY"
      },
      "source": [
        "#  **Transfer Learning**"
      ]
    },
    {
      "cell_type": "code",
      "execution_count": null,
      "metadata": {
        "colab": {
          "base_uri": "https://localhost:8080/"
        },
        "id": "A0jL7KsdOaZo",
        "outputId": "3f1ad3b1-197c-4540-b1f9-67841457259e"
      },
      "outputs": [
        {
          "name": "stdout",
          "output_type": "stream",
          "text": [
            "Downloading data from https://storage.googleapis.com/tensorflow/keras-applications/vgg16/vgg16_weights_tf_dim_ordering_tf_kernels_notop.h5\n",
            "58892288/58889256 [==============================] - 0s 0us/step\n",
            "58900480/58889256 [==============================] - 0s 0us/step\n",
            "Model: \"model_1\"\n",
            "_________________________________________________________________\n",
            " Layer (type)                Output Shape              Param #   \n",
            "=================================================================\n",
            " input_2 (InputLayer)        [(None, 224, 224, 3)]     0         \n",
            "                                                                 \n",
            " block1_conv1 (Conv2D)       (None, 224, 224, 64)      1792      \n",
            "                                                                 \n",
            " block1_conv2 (Conv2D)       (None, 224, 224, 64)      36928     \n",
            "                                                                 \n",
            " block1_pool (MaxPooling2D)  (None, 112, 112, 64)      0         \n",
            "                                                                 \n",
            " block2_conv1 (Conv2D)       (None, 112, 112, 128)     73856     \n",
            "                                                                 \n",
            " block2_conv2 (Conv2D)       (None, 112, 112, 128)     147584    \n",
            "                                                                 \n",
            " block2_pool (MaxPooling2D)  (None, 56, 56, 128)       0         \n",
            "                                                                 \n",
            " block3_conv1 (Conv2D)       (None, 56, 56, 256)       295168    \n",
            "                                                                 \n",
            " block3_conv2 (Conv2D)       (None, 56, 56, 256)       590080    \n",
            "                                                                 \n",
            " block3_conv3 (Conv2D)       (None, 56, 56, 256)       590080    \n",
            "                                                                 \n",
            " block3_pool (MaxPooling2D)  (None, 28, 28, 256)       0         \n",
            "                                                                 \n",
            " block4_conv1 (Conv2D)       (None, 28, 28, 512)       1180160   \n",
            "                                                                 \n",
            " block4_conv2 (Conv2D)       (None, 28, 28, 512)       2359808   \n",
            "                                                                 \n",
            " block4_conv3 (Conv2D)       (None, 28, 28, 512)       2359808   \n",
            "                                                                 \n",
            " block4_pool (MaxPooling2D)  (None, 14, 14, 512)       0         \n",
            "                                                                 \n",
            " block5_conv1 (Conv2D)       (None, 14, 14, 512)       2359808   \n",
            "                                                                 \n",
            " block5_conv2 (Conv2D)       (None, 14, 14, 512)       2359808   \n",
            "                                                                 \n",
            " block5_conv3 (Conv2D)       (None, 14, 14, 512)       2359808   \n",
            "                                                                 \n",
            " block5_pool (MaxPooling2D)  (None, 7, 7, 512)         0         \n",
            "                                                                 \n",
            " flatten (Flatten)           (None, 25088)             0         \n",
            "                                                                 \n",
            " fc1 (Dense)                 (None, 256)               6422784   \n",
            "                                                                 \n",
            " fc2 (Dense)                 (None, 128)               32896     \n",
            "                                                                 \n",
            " dropout (Dropout)           (None, 128)               0         \n",
            "                                                                 \n",
            " output (Dense)              (None, 2)                 258       \n",
            "                                                                 \n",
            "=================================================================\n",
            "Total params: 21,170,626\n",
            "Trainable params: 6,455,938\n",
            "Non-trainable params: 14,714,688\n",
            "_________________________________________________________________\n"
          ]
        }
      ],
      "source": [
        "from tensorflow.keras.applications.vgg16 import VGG16\n",
        "from tensorflow.keras.layers import Input\n",
        "from tensorflow.keras.models import Sequential, Model\n",
        "\n",
        "# Tomamos el modelo VGG16, modificamos sus capas densas\n",
        "image_input = Input(shape=(224,224,3))\n",
        "model2 = VGG16(input_tensor=image_input, include_top=False,weights='imagenet')\n",
        "\n",
        "last_layer = model2.get_layer('block5_pool').output\n",
        "x= Flatten(name='flatten')(last_layer)\n",
        "x = Dense(256, activation='relu',kernel_initializer=\"he_uniform\", name='fc1')(x)\n",
        "x = Dense(128, activation='relu',kernel_initializer=\"he_uniform\", name='fc2')(x)\n",
        "x = Dropout(0.5)(x)\n",
        "out = Dense(2, activation='softmax', name='output')(x)\n",
        "\n",
        "model2 = Model(image_input, out)\n",
        "\n",
        "# Definimos las capas a entrenar\n",
        "for layer in model2.layers[:-4]:\n",
        "\tlayer.trainable = False\n",
        "\n",
        "model2.summary()"
      ]
    },
    {
      "cell_type": "code",
      "execution_count": null,
      "metadata": {
        "id": "QAzlAAMeOjFZ"
      },
      "outputs": [],
      "source": [
        "# Compilamos el modelo, definimos función loss y optimizador\n",
        "model2.compile(loss='binary_crossentropy',optimizer='adam',metrics=['accuracy'])"
      ]
    },
    {
      "cell_type": "markdown",
      "metadata": {
        "id": "WgA_Y2X8Onp5"
      },
      "source": [
        "# **Training**"
      ]
    },
    {
      "cell_type": "code",
      "execution_count": null,
      "metadata": {
        "colab": {
          "base_uri": "https://localhost:8080/"
        },
        "id": "FFbQl4yYOpCk",
        "outputId": "aea85187-bb14-4e63-f1d6-35b56b39bedc"
      },
      "outputs": [
        {
          "data": {
            "text/plain": [
              "(40, 10)"
            ]
          },
          "execution_count": 11,
          "metadata": {},
          "output_type": "execute_result"
        }
      ],
      "source": [
        "n_steps = train_generator.samples // batch_size\n",
        "n_val_steps = test_generator.samples // batch_size\n",
        "n_epochs = 20\n",
        "n_steps,n_val_steps"
      ]
    },
    {
      "cell_type": "code",
      "execution_count": null,
      "metadata": {
        "colab": {
          "base_uri": "https://localhost:8080/"
        },
        "id": "GI5-yeTUPBE8",
        "outputId": "280eca91-8652-474d-c876-78a24e95ebc8"
      },
      "outputs": [
        {
          "name": "stdout",
          "output_type": "stream",
          "text": [
            "Epoch 1/20\n",
            "40/40 [==============================] - 1349s 33s/step - loss: 15.9390 - accuracy: 0.5658 - val_loss: 5.4254 - val_accuracy: 0.6717\n",
            "Epoch 2/20\n",
            "40/40 [==============================] - 36s 908ms/step - loss: 3.0468 - accuracy: 0.7971 - val_loss: 1.5278 - val_accuracy: 0.8250\n",
            "Epoch 3/20\n",
            "40/40 [==============================] - 38s 937ms/step - loss: 0.6654 - accuracy: 0.8737 - val_loss: 0.8318 - val_accuracy: 0.8550\n",
            "Epoch 4/20\n",
            "40/40 [==============================] - 36s 909ms/step - loss: 0.2655 - accuracy: 0.9117 - val_loss: 0.5712 - val_accuracy: 0.8317\n",
            "Epoch 5/20\n",
            "40/40 [==============================] - 37s 911ms/step - loss: 0.2207 - accuracy: 0.9171 - val_loss: 0.5004 - val_accuracy: 0.8583\n",
            "Epoch 6/20\n",
            "40/40 [==============================] - 37s 914ms/step - loss: 0.2005 - accuracy: 0.9279 - val_loss: 0.2407 - val_accuracy: 0.9150\n",
            "Epoch 7/20\n",
            "40/40 [==============================] - 38s 938ms/step - loss: 0.1850 - accuracy: 0.9287 - val_loss: 0.3674 - val_accuracy: 0.8783\n",
            "Epoch 8/20\n",
            "40/40 [==============================] - 37s 915ms/step - loss: 0.1502 - accuracy: 0.9438 - val_loss: 0.4442 - val_accuracy: 0.8683\n",
            "Epoch 9/20\n",
            "40/40 [==============================] - 37s 911ms/step - loss: 0.1544 - accuracy: 0.9513 - val_loss: 0.3287 - val_accuracy: 0.9050\n",
            "Epoch 10/20\n",
            "40/40 [==============================] - 37s 913ms/step - loss: 0.1488 - accuracy: 0.9500 - val_loss: 0.5272 - val_accuracy: 0.8700\n",
            "Epoch 11/20\n",
            "40/40 [==============================] - 37s 921ms/step - loss: 0.1193 - accuracy: 0.9604 - val_loss: 0.7269 - val_accuracy: 0.8633\n",
            "Epoch 12/20\n",
            "40/40 [==============================] - 38s 942ms/step - loss: 0.1014 - accuracy: 0.9654 - val_loss: 0.1418 - val_accuracy: 0.9450\n",
            "Epoch 13/20\n",
            "40/40 [==============================] - 37s 915ms/step - loss: 0.1001 - accuracy: 0.9642 - val_loss: 0.2183 - val_accuracy: 0.9367\n",
            "Epoch 14/20\n",
            "40/40 [==============================] - 37s 914ms/step - loss: 0.0947 - accuracy: 0.9696 - val_loss: 0.2739 - val_accuracy: 0.9367\n",
            "Epoch 15/20\n",
            "40/40 [==============================] - 37s 914ms/step - loss: 0.0948 - accuracy: 0.9671 - val_loss: 0.1226 - val_accuracy: 0.9483\n",
            "Epoch 16/20\n",
            "40/40 [==============================] - 37s 919ms/step - loss: 0.1020 - accuracy: 0.9667 - val_loss: 0.1166 - val_accuracy: 0.9550\n",
            "Epoch 17/20\n",
            "40/40 [==============================] - 38s 939ms/step - loss: 0.0773 - accuracy: 0.9729 - val_loss: 0.3834 - val_accuracy: 0.9150\n",
            "Epoch 18/20\n",
            "40/40 [==============================] - 37s 912ms/step - loss: 0.0817 - accuracy: 0.9758 - val_loss: 0.2241 - val_accuracy: 0.9500\n",
            "Epoch 19/20\n",
            "40/40 [==============================] - 37s 910ms/step - loss: 0.0830 - accuracy: 0.9733 - val_loss: 0.1165 - val_accuracy: 0.9550\n",
            "Epoch 20/20\n",
            "40/40 [==============================] - 37s 916ms/step - loss: 0.0625 - accuracy: 0.9800 - val_loss: 0.1722 - val_accuracy: 0.9583\n"
          ]
        }
      ],
      "source": [
        "model_history = model2.fit(  \n",
        "    train_generator,\n",
        "    batch_size=batch_size,\n",
        "    epochs=n_epochs,\n",
        "    validation_data=test_generator,\n",
        "    steps_per_epoch=n_steps,\n",
        "    validation_steps=n_val_steps)"
      ]
    },
    {
      "cell_type": "markdown",
      "metadata": {
        "id": "jo8KtN6fR0UB"
      },
      "source": [
        "#  **Test the model**"
      ]
    },
    {
      "cell_type": "code",
      "execution_count": null,
      "metadata": {
        "id": "LPn41ip9RzDQ"
      },
      "outputs": [],
      "source": [
        "# Tomamos una imagen de test y probamos el modelo\n",
        "from keras.applications.imagenet_utils import preprocess_input, decode_predictions\n",
        "import cv2 \n",
        "import numpy as np\n",
        "\n",
        "imaget_path = \"/content/drive/MyDrive/Brain_tumor/Test/no/No12.jpgv\"\n",
        "imaget=cv2.resize(cv2.imread(imaget_path), (width_shape, height_shape), interpolation = cv2.INTER_AREA)\n",
        "xt = np.asarray(imaget)\n",
        "xt=preprocess_input(xt)\n",
        "xt = np.expand_dims(xt,axis=0)\n",
        "preds = model2.predict(xt)\n",
        "\n",
        "print(class_names[np.argmax(preds)])\n",
        "print(preds)\n",
        "plt.imshow(cv2.cvtColor(np.asarray(imaget),cv2.COLOR_BGR2RGB))\n",
        "plt.axis('off')\n",
        "plt.show()"
      ]
    },
    {
      "cell_type": "code",
      "execution_count": null,
      "metadata": {
        "colab": {
          "base_uri": "https://localhost:8080/"
        },
        "id": "sfOnHBaITBeT",
        "outputId": "b0b19711-4948-4494-f091-77c49966a1f7"
      },
      "outputs": [
        {
          "name": "stdout",
          "output_type": "stream",
          "text": [
            "no\n"
          ]
        }
      ],
      "source": [
        "print(class_names[np.argmax(preds)])"
      ]
    },
    {
      "cell_type": "markdown",
      "metadata": {
        "id": "5jEXDY4JRMoZ"
      },
      "source": [
        "# **Save the model**"
      ]
    },
    {
      "cell_type": "code",
      "execution_count": null,
      "metadata": {
        "id": "AMC9eSDWRMJX"
      },
      "outputs": [],
      "source": [
        "from keras.models import load_model \n",
        "model2.save(\"Brain_tumor.h5\") "
      ]
    }
  ],
  "metadata": {
    "accelerator": "GPU",
    "colab": {
      "collapsed_sections": [],
      "provenance": []
    },
    "kernelspec": {
      "display_name": "Python 3",
      "language": "python",
      "name": "python3"
    },
    "language_info": {
      "name": "python",
      "version": "3.8.8"
    },
    "vscode": {
      "interpreter": {
        "hash": "17a11c0a02889e2954f64ccf11692419578323812561cf8920fe6d79d8de1801"
      }
    },
    "widgets": {
      "application/vnd.jupyter.widget-state+json": {
        "0a41e97e67c24ff5a554a4adfda7fa97": {
          "model_module": "@jupyter-widgets/base",
          "model_module_version": "1.2.0",
          "model_name": "LayoutModel",
          "state": {
            "_model_module": "@jupyter-widgets/base",
            "_model_module_version": "1.2.0",
            "_model_name": "LayoutModel",
            "_view_count": null,
            "_view_module": "@jupyter-widgets/base",
            "_view_module_version": "1.2.0",
            "_view_name": "LayoutView",
            "align_content": null,
            "align_items": null,
            "align_self": null,
            "border": null,
            "bottom": null,
            "display": null,
            "flex": null,
            "flex_flow": null,
            "grid_area": null,
            "grid_auto_columns": null,
            "grid_auto_flow": null,
            "grid_auto_rows": null,
            "grid_column": null,
            "grid_gap": null,
            "grid_row": null,
            "grid_template_areas": null,
            "grid_template_columns": null,
            "grid_template_rows": null,
            "height": null,
            "justify_content": null,
            "justify_items": null,
            "left": null,
            "margin": null,
            "max_height": null,
            "max_width": null,
            "min_height": null,
            "min_width": null,
            "object_fit": null,
            "object_position": null,
            "order": null,
            "overflow": null,
            "overflow_x": null,
            "overflow_y": null,
            "padding": null,
            "right": null,
            "top": null,
            "visibility": null,
            "width": null
          }
        },
        "228a8ccc9ae64a72b98868792423ce85": {
          "model_module": "@jupyter-widgets/controls",
          "model_module_version": "1.5.0",
          "model_name": "DescriptionStyleModel",
          "state": {
            "_model_module": "@jupyter-widgets/controls",
            "_model_module_version": "1.5.0",
            "_model_name": "DescriptionStyleModel",
            "_view_count": null,
            "_view_module": "@jupyter-widgets/base",
            "_view_module_version": "1.2.0",
            "_view_name": "StyleView",
            "description_width": ""
          }
        },
        "27098e64a49d4ff1a86b0805c1f6674e": {
          "model_module": "@jupyter-widgets/controls",
          "model_module_version": "1.5.0",
          "model_name": "HTMLModel",
          "state": {
            "_dom_classes": [],
            "_model_module": "@jupyter-widgets/controls",
            "_model_module_version": "1.5.0",
            "_model_name": "HTMLModel",
            "_view_count": null,
            "_view_module": "@jupyter-widgets/controls",
            "_view_module_version": "1.5.0",
            "_view_name": "HTMLView",
            "description": "",
            "description_tooltip": null,
            "layout": "IPY_MODEL_5d7691b30c914dcba2fd67dabd2e369f",
            "placeholder": "​",
            "style": "IPY_MODEL_228a8ccc9ae64a72b98868792423ce85",
            "value": " 300/300 [00:01&lt;00:00, 271.75it/s]"
          }
        },
        "2d1fd6e77c894953b21e6aa0bd157047": {
          "model_module": "@jupyter-widgets/base",
          "model_module_version": "1.2.0",
          "model_name": "LayoutModel",
          "state": {
            "_model_module": "@jupyter-widgets/base",
            "_model_module_version": "1.2.0",
            "_model_name": "LayoutModel",
            "_view_count": null,
            "_view_module": "@jupyter-widgets/base",
            "_view_module_version": "1.2.0",
            "_view_name": "LayoutView",
            "align_content": null,
            "align_items": null,
            "align_self": null,
            "border": null,
            "bottom": null,
            "display": null,
            "flex": null,
            "flex_flow": null,
            "grid_area": null,
            "grid_auto_columns": null,
            "grid_auto_flow": null,
            "grid_auto_rows": null,
            "grid_column": null,
            "grid_gap": null,
            "grid_row": null,
            "grid_template_areas": null,
            "grid_template_columns": null,
            "grid_template_rows": null,
            "height": null,
            "justify_content": null,
            "justify_items": null,
            "left": null,
            "margin": null,
            "max_height": null,
            "max_width": null,
            "min_height": null,
            "min_width": null,
            "object_fit": null,
            "object_position": null,
            "order": null,
            "overflow": null,
            "overflow_x": null,
            "overflow_y": null,
            "padding": null,
            "right": null,
            "top": null,
            "visibility": null,
            "width": null
          }
        },
        "3b2391b909454956996c16d2b14fc4bf": {
          "model_module": "@jupyter-widgets/controls",
          "model_module_version": "1.5.0",
          "model_name": "DescriptionStyleModel",
          "state": {
            "_model_module": "@jupyter-widgets/controls",
            "_model_module_version": "1.5.0",
            "_model_name": "DescriptionStyleModel",
            "_view_count": null,
            "_view_module": "@jupyter-widgets/base",
            "_view_module_version": "1.2.0",
            "_view_name": "StyleView",
            "description_width": ""
          }
        },
        "3c088d13d7a6410ea4f2c75133e3b980": {
          "model_module": "@jupyter-widgets/controls",
          "model_module_version": "1.5.0",
          "model_name": "HTMLModel",
          "state": {
            "_dom_classes": [],
            "_model_module": "@jupyter-widgets/controls",
            "_model_module_version": "1.5.0",
            "_model_name": "HTMLModel",
            "_view_count": null,
            "_view_module": "@jupyter-widgets/controls",
            "_view_module_version": "1.5.0",
            "_view_name": "HTMLView",
            "description": "",
            "description_tooltip": null,
            "layout": "IPY_MODEL_75105c89b9c84b25866d3c558f4c5459",
            "placeholder": "​",
            "style": "IPY_MODEL_f46dd6da2e2a4de78d922512445e43cc",
            "value": " 300/300 [00:01&lt;00:00, 314.61it/s]"
          }
        },
        "48e0f8db42ae45ee8d7a4c6d40734117": {
          "model_module": "@jupyter-widgets/controls",
          "model_module_version": "1.5.0",
          "model_name": "HTMLModel",
          "state": {
            "_dom_classes": [],
            "_model_module": "@jupyter-widgets/controls",
            "_model_module_version": "1.5.0",
            "_model_name": "HTMLModel",
            "_view_count": null,
            "_view_module": "@jupyter-widgets/controls",
            "_view_module_version": "1.5.0",
            "_view_name": "HTMLView",
            "description": "",
            "description_tooltip": null,
            "layout": "IPY_MODEL_5911cfc25fc44ef9a9a145f5b43cd57d",
            "placeholder": "​",
            "style": "IPY_MODEL_bca25db3521d45a78446a059839dea8f",
            "value": "100%"
          }
        },
        "5245246573a342d881e6ea841dfb79f4": {
          "model_module": "@jupyter-widgets/controls",
          "model_module_version": "1.5.0",
          "model_name": "ProgressStyleModel",
          "state": {
            "_model_module": "@jupyter-widgets/controls",
            "_model_module_version": "1.5.0",
            "_model_name": "ProgressStyleModel",
            "_view_count": null,
            "_view_module": "@jupyter-widgets/base",
            "_view_module_version": "1.2.0",
            "_view_name": "StyleView",
            "bar_color": null,
            "description_width": ""
          }
        },
        "5911cfc25fc44ef9a9a145f5b43cd57d": {
          "model_module": "@jupyter-widgets/base",
          "model_module_version": "1.2.0",
          "model_name": "LayoutModel",
          "state": {
            "_model_module": "@jupyter-widgets/base",
            "_model_module_version": "1.2.0",
            "_model_name": "LayoutModel",
            "_view_count": null,
            "_view_module": "@jupyter-widgets/base",
            "_view_module_version": "1.2.0",
            "_view_name": "LayoutView",
            "align_content": null,
            "align_items": null,
            "align_self": null,
            "border": null,
            "bottom": null,
            "display": null,
            "flex": null,
            "flex_flow": null,
            "grid_area": null,
            "grid_auto_columns": null,
            "grid_auto_flow": null,
            "grid_auto_rows": null,
            "grid_column": null,
            "grid_gap": null,
            "grid_row": null,
            "grid_template_areas": null,
            "grid_template_columns": null,
            "grid_template_rows": null,
            "height": null,
            "justify_content": null,
            "justify_items": null,
            "left": null,
            "margin": null,
            "max_height": null,
            "max_width": null,
            "min_height": null,
            "min_width": null,
            "object_fit": null,
            "object_position": null,
            "order": null,
            "overflow": null,
            "overflow_x": null,
            "overflow_y": null,
            "padding": null,
            "right": null,
            "top": null,
            "visibility": null,
            "width": null
          }
        },
        "5c56dea788f14157b8177e9d282940be": {
          "model_module": "@jupyter-widgets/controls",
          "model_module_version": "1.5.0",
          "model_name": "FloatProgressModel",
          "state": {
            "_dom_classes": [],
            "_model_module": "@jupyter-widgets/controls",
            "_model_module_version": "1.5.0",
            "_model_name": "FloatProgressModel",
            "_view_count": null,
            "_view_module": "@jupyter-widgets/controls",
            "_view_module_version": "1.5.0",
            "_view_name": "ProgressView",
            "bar_style": "success",
            "description": "",
            "description_tooltip": null,
            "layout": "IPY_MODEL_9e278b15552e4141914cb63706a13c57",
            "max": 300,
            "min": 0,
            "orientation": "horizontal",
            "style": "IPY_MODEL_5245246573a342d881e6ea841dfb79f4",
            "value": 300
          }
        },
        "5d7691b30c914dcba2fd67dabd2e369f": {
          "model_module": "@jupyter-widgets/base",
          "model_module_version": "1.2.0",
          "model_name": "LayoutModel",
          "state": {
            "_model_module": "@jupyter-widgets/base",
            "_model_module_version": "1.2.0",
            "_model_name": "LayoutModel",
            "_view_count": null,
            "_view_module": "@jupyter-widgets/base",
            "_view_module_version": "1.2.0",
            "_view_name": "LayoutView",
            "align_content": null,
            "align_items": null,
            "align_self": null,
            "border": null,
            "bottom": null,
            "display": null,
            "flex": null,
            "flex_flow": null,
            "grid_area": null,
            "grid_auto_columns": null,
            "grid_auto_flow": null,
            "grid_auto_rows": null,
            "grid_column": null,
            "grid_gap": null,
            "grid_row": null,
            "grid_template_areas": null,
            "grid_template_columns": null,
            "grid_template_rows": null,
            "height": null,
            "justify_content": null,
            "justify_items": null,
            "left": null,
            "margin": null,
            "max_height": null,
            "max_width": null,
            "min_height": null,
            "min_width": null,
            "object_fit": null,
            "object_position": null,
            "order": null,
            "overflow": null,
            "overflow_x": null,
            "overflow_y": null,
            "padding": null,
            "right": null,
            "top": null,
            "visibility": null,
            "width": null
          }
        },
        "75105c89b9c84b25866d3c558f4c5459": {
          "model_module": "@jupyter-widgets/base",
          "model_module_version": "1.2.0",
          "model_name": "LayoutModel",
          "state": {
            "_model_module": "@jupyter-widgets/base",
            "_model_module_version": "1.2.0",
            "_model_name": "LayoutModel",
            "_view_count": null,
            "_view_module": "@jupyter-widgets/base",
            "_view_module_version": "1.2.0",
            "_view_name": "LayoutView",
            "align_content": null,
            "align_items": null,
            "align_self": null,
            "border": null,
            "bottom": null,
            "display": null,
            "flex": null,
            "flex_flow": null,
            "grid_area": null,
            "grid_auto_columns": null,
            "grid_auto_flow": null,
            "grid_auto_rows": null,
            "grid_column": null,
            "grid_gap": null,
            "grid_row": null,
            "grid_template_areas": null,
            "grid_template_columns": null,
            "grid_template_rows": null,
            "height": null,
            "justify_content": null,
            "justify_items": null,
            "left": null,
            "margin": null,
            "max_height": null,
            "max_width": null,
            "min_height": null,
            "min_width": null,
            "object_fit": null,
            "object_position": null,
            "order": null,
            "overflow": null,
            "overflow_x": null,
            "overflow_y": null,
            "padding": null,
            "right": null,
            "top": null,
            "visibility": null,
            "width": null
          }
        },
        "819b483ac5f54b26ad7b396d82f9a152": {
          "model_module": "@jupyter-widgets/controls",
          "model_module_version": "1.5.0",
          "model_name": "HBoxModel",
          "state": {
            "_dom_classes": [],
            "_model_module": "@jupyter-widgets/controls",
            "_model_module_version": "1.5.0",
            "_model_name": "HBoxModel",
            "_view_count": null,
            "_view_module": "@jupyter-widgets/controls",
            "_view_module_version": "1.5.0",
            "_view_name": "HBoxView",
            "box_style": "",
            "children": [
              "IPY_MODEL_48e0f8db42ae45ee8d7a4c6d40734117",
              "IPY_MODEL_5c56dea788f14157b8177e9d282940be",
              "IPY_MODEL_3c088d13d7a6410ea4f2c75133e3b980"
            ],
            "layout": "IPY_MODEL_0a41e97e67c24ff5a554a4adfda7fa97"
          }
        },
        "90d4f06bde0140a58919ab93a94c6cc3": {
          "model_module": "@jupyter-widgets/base",
          "model_module_version": "1.2.0",
          "model_name": "LayoutModel",
          "state": {
            "_model_module": "@jupyter-widgets/base",
            "_model_module_version": "1.2.0",
            "_model_name": "LayoutModel",
            "_view_count": null,
            "_view_module": "@jupyter-widgets/base",
            "_view_module_version": "1.2.0",
            "_view_name": "LayoutView",
            "align_content": null,
            "align_items": null,
            "align_self": null,
            "border": null,
            "bottom": null,
            "display": null,
            "flex": null,
            "flex_flow": null,
            "grid_area": null,
            "grid_auto_columns": null,
            "grid_auto_flow": null,
            "grid_auto_rows": null,
            "grid_column": null,
            "grid_gap": null,
            "grid_row": null,
            "grid_template_areas": null,
            "grid_template_columns": null,
            "grid_template_rows": null,
            "height": null,
            "justify_content": null,
            "justify_items": null,
            "left": null,
            "margin": null,
            "max_height": null,
            "max_width": null,
            "min_height": null,
            "min_width": null,
            "object_fit": null,
            "object_position": null,
            "order": null,
            "overflow": null,
            "overflow_x": null,
            "overflow_y": null,
            "padding": null,
            "right": null,
            "top": null,
            "visibility": null,
            "width": null
          }
        },
        "975a9bc67a704069b7409d960a7751f3": {
          "model_module": "@jupyter-widgets/controls",
          "model_module_version": "1.5.0",
          "model_name": "HBoxModel",
          "state": {
            "_dom_classes": [],
            "_model_module": "@jupyter-widgets/controls",
            "_model_module_version": "1.5.0",
            "_model_name": "HBoxModel",
            "_view_count": null,
            "_view_module": "@jupyter-widgets/controls",
            "_view_module_version": "1.5.0",
            "_view_name": "HBoxView",
            "box_style": "",
            "children": [
              "IPY_MODEL_eac85250b39b4631828fbc356521e2f3",
              "IPY_MODEL_da1f2e27cefa424b92cd743cddc29c44",
              "IPY_MODEL_27098e64a49d4ff1a86b0805c1f6674e"
            ],
            "layout": "IPY_MODEL_90d4f06bde0140a58919ab93a94c6cc3"
          }
        },
        "9d5bb51bee264e969c51749b62122591": {
          "model_module": "@jupyter-widgets/base",
          "model_module_version": "1.2.0",
          "model_name": "LayoutModel",
          "state": {
            "_model_module": "@jupyter-widgets/base",
            "_model_module_version": "1.2.0",
            "_model_name": "LayoutModel",
            "_view_count": null,
            "_view_module": "@jupyter-widgets/base",
            "_view_module_version": "1.2.0",
            "_view_name": "LayoutView",
            "align_content": null,
            "align_items": null,
            "align_self": null,
            "border": null,
            "bottom": null,
            "display": null,
            "flex": null,
            "flex_flow": null,
            "grid_area": null,
            "grid_auto_columns": null,
            "grid_auto_flow": null,
            "grid_auto_rows": null,
            "grid_column": null,
            "grid_gap": null,
            "grid_row": null,
            "grid_template_areas": null,
            "grid_template_columns": null,
            "grid_template_rows": null,
            "height": null,
            "justify_content": null,
            "justify_items": null,
            "left": null,
            "margin": null,
            "max_height": null,
            "max_width": null,
            "min_height": null,
            "min_width": null,
            "object_fit": null,
            "object_position": null,
            "order": null,
            "overflow": null,
            "overflow_x": null,
            "overflow_y": null,
            "padding": null,
            "right": null,
            "top": null,
            "visibility": null,
            "width": null
          }
        },
        "9e278b15552e4141914cb63706a13c57": {
          "model_module": "@jupyter-widgets/base",
          "model_module_version": "1.2.0",
          "model_name": "LayoutModel",
          "state": {
            "_model_module": "@jupyter-widgets/base",
            "_model_module_version": "1.2.0",
            "_model_name": "LayoutModel",
            "_view_count": null,
            "_view_module": "@jupyter-widgets/base",
            "_view_module_version": "1.2.0",
            "_view_name": "LayoutView",
            "align_content": null,
            "align_items": null,
            "align_self": null,
            "border": null,
            "bottom": null,
            "display": null,
            "flex": null,
            "flex_flow": null,
            "grid_area": null,
            "grid_auto_columns": null,
            "grid_auto_flow": null,
            "grid_auto_rows": null,
            "grid_column": null,
            "grid_gap": null,
            "grid_row": null,
            "grid_template_areas": null,
            "grid_template_columns": null,
            "grid_template_rows": null,
            "height": null,
            "justify_content": null,
            "justify_items": null,
            "left": null,
            "margin": null,
            "max_height": null,
            "max_width": null,
            "min_height": null,
            "min_width": null,
            "object_fit": null,
            "object_position": null,
            "order": null,
            "overflow": null,
            "overflow_x": null,
            "overflow_y": null,
            "padding": null,
            "right": null,
            "top": null,
            "visibility": null,
            "width": null
          }
        },
        "bca25db3521d45a78446a059839dea8f": {
          "model_module": "@jupyter-widgets/controls",
          "model_module_version": "1.5.0",
          "model_name": "DescriptionStyleModel",
          "state": {
            "_model_module": "@jupyter-widgets/controls",
            "_model_module_version": "1.5.0",
            "_model_name": "DescriptionStyleModel",
            "_view_count": null,
            "_view_module": "@jupyter-widgets/base",
            "_view_module_version": "1.2.0",
            "_view_name": "StyleView",
            "description_width": ""
          }
        },
        "da1f2e27cefa424b92cd743cddc29c44": {
          "model_module": "@jupyter-widgets/controls",
          "model_module_version": "1.5.0",
          "model_name": "FloatProgressModel",
          "state": {
            "_dom_classes": [],
            "_model_module": "@jupyter-widgets/controls",
            "_model_module_version": "1.5.0",
            "_model_name": "FloatProgressModel",
            "_view_count": null,
            "_view_module": "@jupyter-widgets/controls",
            "_view_module_version": "1.5.0",
            "_view_name": "ProgressView",
            "bar_style": "success",
            "description": "",
            "description_tooltip": null,
            "layout": "IPY_MODEL_2d1fd6e77c894953b21e6aa0bd157047",
            "max": 300,
            "min": 0,
            "orientation": "horizontal",
            "style": "IPY_MODEL_dd0ffd090f3047eca82cbab0d96539da",
            "value": 300
          }
        },
        "dd0ffd090f3047eca82cbab0d96539da": {
          "model_module": "@jupyter-widgets/controls",
          "model_module_version": "1.5.0",
          "model_name": "ProgressStyleModel",
          "state": {
            "_model_module": "@jupyter-widgets/controls",
            "_model_module_version": "1.5.0",
            "_model_name": "ProgressStyleModel",
            "_view_count": null,
            "_view_module": "@jupyter-widgets/base",
            "_view_module_version": "1.2.0",
            "_view_name": "StyleView",
            "bar_color": null,
            "description_width": ""
          }
        },
        "eac85250b39b4631828fbc356521e2f3": {
          "model_module": "@jupyter-widgets/controls",
          "model_module_version": "1.5.0",
          "model_name": "HTMLModel",
          "state": {
            "_dom_classes": [],
            "_model_module": "@jupyter-widgets/controls",
            "_model_module_version": "1.5.0",
            "_model_name": "HTMLModel",
            "_view_count": null,
            "_view_module": "@jupyter-widgets/controls",
            "_view_module_version": "1.5.0",
            "_view_name": "HTMLView",
            "description": "",
            "description_tooltip": null,
            "layout": "IPY_MODEL_9d5bb51bee264e969c51749b62122591",
            "placeholder": "​",
            "style": "IPY_MODEL_3b2391b909454956996c16d2b14fc4bf",
            "value": "100%"
          }
        },
        "f46dd6da2e2a4de78d922512445e43cc": {
          "model_module": "@jupyter-widgets/controls",
          "model_module_version": "1.5.0",
          "model_name": "DescriptionStyleModel",
          "state": {
            "_model_module": "@jupyter-widgets/controls",
            "_model_module_version": "1.5.0",
            "_model_name": "DescriptionStyleModel",
            "_view_count": null,
            "_view_module": "@jupyter-widgets/base",
            "_view_module_version": "1.2.0",
            "_view_name": "StyleView",
            "description_width": ""
          }
        }
      }
    }
  },
  "nbformat": 4,
  "nbformat_minor": 0
}
